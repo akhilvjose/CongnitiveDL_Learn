{
  "nbformat": 4,
  "nbformat_minor": 0,
  "metadata": {
    "colab": {
      "name": "IrisClassTF_DL.ipynb",
      "version": "0.3.2",
      "provenance": [],
      "include_colab_link": true
    },
    "kernelspec": {
      "name": "python3",
      "display_name": "Python 3"
    }
  },
  "cells": [
    {
      "cell_type": "markdown",
      "metadata": {
        "id": "view-in-github",
        "colab_type": "text"
      },
      "source": [
        "<a href=\"https://colab.research.google.com/github/akhilvjose/CongnitiveDL_Learn/blob/master/IrisClassTF_DL.ipynb\" target=\"_parent\"><img src=\"https://colab.research.google.com/assets/colab-badge.svg\" alt=\"Open In Colab\"/></a>"
      ]
    },
    {
      "metadata": {
        "id": "j278qgKUmDdY",
        "colab_type": "code",
        "colab": {}
      },
      "cell_type": "code",
      "source": [
        "import tensorflow as tf\n",
        "import pandas as pd\n",
        "import numpy as np\n",
        "import time\n",
        "from sklearn.datasets import load_iris\n",
        "from sklearn.model_selection import train_test_split\n",
        "import matplotlib.pyplot as plt"
      ],
      "execution_count": 0,
      "outputs": []
    },
    {
      "metadata": {
        "id": "j4krtwRaoIP8",
        "colab_type": "code",
        "colab": {}
      },
      "cell_type": "code",
      "source": [
        "iris = load_iris()\n",
        "iris_X, iris_y = iris.data[:-1,:], iris.target[:-1]\n",
        "iris_y= pd.get_dummies(iris_y).values\n",
        "trainX, testX, trainY, testY = train_test_split(iris_X, iris_y, test_size=0.33, random_state=42)"
      ],
      "execution_count": 0,
      "outputs": []
    },
    {
      "metadata": {
        "id": "Va0NA5f3pKSU",
        "colab_type": "code",
        "outputId": "9202656c-f4ce-4aa0-c311-6f234fdc6fa6",
        "colab": {
          "base_uri": "https://localhost:8080/",
          "height": 136
        }
      },
      "cell_type": "code",
      "source": [
        "iris.target[:-1]"
      ],
      "execution_count": 0,
      "outputs": [
        {
          "output_type": "execute_result",
          "data": {
            "text/plain": [
              "array([0, 0, 0, 0, 0, 0, 0, 0, 0, 0, 0, 0, 0, 0, 0, 0, 0, 0, 0, 0, 0, 0,\n",
              "       0, 0, 0, 0, 0, 0, 0, 0, 0, 0, 0, 0, 0, 0, 0, 0, 0, 0, 0, 0, 0, 0,\n",
              "       0, 0, 0, 0, 0, 0, 1, 1, 1, 1, 1, 1, 1, 1, 1, 1, 1, 1, 1, 1, 1, 1,\n",
              "       1, 1, 1, 1, 1, 1, 1, 1, 1, 1, 1, 1, 1, 1, 1, 1, 1, 1, 1, 1, 1, 1,\n",
              "       1, 1, 1, 1, 1, 1, 1, 1, 1, 1, 1, 1, 2, 2, 2, 2, 2, 2, 2, 2, 2, 2,\n",
              "       2, 2, 2, 2, 2, 2, 2, 2, 2, 2, 2, 2, 2, 2, 2, 2, 2, 2, 2, 2, 2, 2,\n",
              "       2, 2, 2, 2, 2, 2, 2, 2, 2, 2, 2, 2, 2, 2, 2, 2, 2])"
            ]
          },
          "metadata": {
            "tags": []
          },
          "execution_count": 27
        }
      ]
    },
    {
      "metadata": {
        "id": "ZdygIL_1sI7y",
        "colab_type": "code",
        "colab": {}
      },
      "cell_type": "code",
      "source": [
        "# numFeatures is the number of features in our input data.\n",
        "# In the iris dataset, this number is '4'.\n",
        "numFeatures = trainX.shape[1]\n",
        "\n",
        "# numLabels is the number of classes our data points can be in.\n",
        "# In the iris dataset, this number is '3'.\n",
        "numLabels = trainY.shape[1]\n",
        "\n",
        "\n",
        "# Placeholders\n",
        "# 'None' means TensorFlow shouldn't expect a fixed number in that dimension\n",
        "X = tf.placeholder(tf.float32, [None, numFeatures]) # Iris has 4 features, so X is a tensor to hold our data.\n",
        "yGold = tf.placeholder(tf.float32, [None, numLabels]) # This will be our correct answers matrix for 3 classes."
      ],
      "execution_count": 0,
      "outputs": []
    },
    {
      "metadata": {
        "id": "ftRmkOs3tJKq",
        "colab_type": "code",
        "colab": {}
      },
      "cell_type": "code",
      "source": [
        "W = tf.Variable(tf.zeros([4, 3]))  # 4-dimensional input and  3 classes\n",
        "b = tf.Variable(tf.zeros([3])) # 3-dimensional output [0,0,1],[0,1,0],[1,0,0]"
      ],
      "execution_count": 0,
      "outputs": []
    },
    {
      "metadata": {
        "id": "ricvIY6KtojF",
        "colab_type": "code",
        "colab": {}
      },
      "cell_type": "code",
      "source": [
        "#Randomly sample from a normal distribution with standard deviation .01\n",
        "\n",
        "weights = tf.Variable(tf.random_normal([numFeatures,numLabels],\n",
        "                                       mean=0,\n",
        "                                       stddev=0.01,\n",
        "                                       name=\"weights\"))\n",
        "\n",
        "bias = tf.Variable(tf.random_normal([1,numLabels],\n",
        "                                    mean=0,\n",
        "                                    stddev=0.01,\n",
        "                                    name=\"bias\"))"
      ],
      "execution_count": 0,
      "outputs": []
    },
    {
      "metadata": {
        "id": "5RLmv2gatu8C",
        "colab_type": "code",
        "colab": {}
      },
      "cell_type": "code",
      "source": [
        "# Three-component breakdown of the Logistic Regression equation.\n",
        "# Note that these feed into each other.\n",
        "apply_weights_OP = tf.matmul(X, weights, name=\"apply_weights\")\n",
        "add_bias_OP = tf.add(apply_weights_OP, bias, name=\"add_bias\") \n",
        "activation_OP = tf.nn.sigmoid(add_bias_OP, name=\"activation\")"
      ],
      "execution_count": 0,
      "outputs": []
    },
    {
      "metadata": {
        "id": "jVCHFDvryCtx",
        "colab_type": "code",
        "colab": {}
      },
      "cell_type": "code",
      "source": [
        "# Number of Epochs in our training\n",
        "numEpochs = 700\n",
        "\n",
        "# Defining our learning rate iterations (decay)\n",
        "learningRate = tf.train.exponential_decay(learning_rate=0.0008,\n",
        "                                          global_step= 1,\n",
        "                                          decay_steps=trainX.shape[0],\n",
        "                                          decay_rate= 0.95,\n",
        "                                          staircase=True)"
      ],
      "execution_count": 0,
      "outputs": []
    },
    {
      "metadata": {
        "id": "MtV6Psoyyt0C",
        "colab_type": "code",
        "colab": {}
      },
      "cell_type": "code",
      "source": [
        "#Defining our cost function - Squared Mean Error\n",
        "cost_OP = tf.nn.l2_loss(activation_OP-yGold, name=\"squared_error_cost\")\n",
        "\n",
        "#Defining our Gradient Descent\n",
        "training_OP = tf.train.GradientDescentOptimizer(learningRate).minimize(cost_OP)"
      ],
      "execution_count": 0,
      "outputs": []
    },
    {
      "metadata": {
        "id": "U5nb2eERzpVg",
        "colab_type": "code",
        "colab": {}
      },
      "cell_type": "code",
      "source": [
        "# Create a tensorflow session\n",
        "sess = tf.Session()\n",
        "\n",
        "# Initialize our weights and biases variables.\n",
        "init_OP = tf.global_variables_initializer()\n",
        "\n",
        "# Initialize all tensorflow variables\n",
        "sess.run(init_OP)"
      ],
      "execution_count": 0,
      "outputs": []
    },
    {
      "metadata": {
        "id": "2zJpHzzo0hpP",
        "colab_type": "code",
        "colab": {}
      },
      "cell_type": "code",
      "source": [
        "# argmax(activation_OP, 1) returns the label with the most probability\n",
        "# argmax(yGold, 1) is the correct label\n",
        "correct_predictions_OP = tf.equal(tf.argmax(activation_OP,1),tf.argmax(yGold,1))\n",
        "\n",
        "# If every false prediction is 0 and every true prediction is 1, the average returns us the accuracy\n",
        "accuracy_OP = tf.reduce_mean(tf.cast(correct_predictions_OP, \"float\"))\n",
        "\n",
        "# Summary op for regression output\n",
        "activation_summary_OP = tf.summary.histogram(\"output\", activation_OP)\n",
        "\n",
        "# Summary op for accuracy\n",
        "accuracy_summary_OP = tf.summary.scalar(\"accuracy\", accuracy_OP)\n",
        "\n",
        "# Summary op for cost\n",
        "cost_summary_OP = tf.summary.scalar(\"cost\", cost_OP)\n",
        "\n",
        "# Summary ops to check how variables (W, b) are updating after each iteration\n",
        "weightSummary = tf.summary.histogram(\"weights\", weights.eval(session=sess))\n",
        "biasSummary = tf.summary.histogram(\"biases\", bias.eval(session=sess))\n",
        "\n",
        "# Merge all summaries\n",
        "merged = tf.summary.merge([activation_summary_OP, accuracy_summary_OP, cost_summary_OP, weightSummary, biasSummary])\n",
        "\n",
        "# Summary writer\n",
        "writer = tf.summary.FileWriter(\"summary_logs\", sess.graph)"
      ],
      "execution_count": 0,
      "outputs": []
    },
    {
      "metadata": {
        "id": "Iv6zYJ721eUR",
        "colab_type": "code",
        "outputId": "47567131-4e53-444d-eac5-c9207271250d",
        "colab": {
          "base_uri": "https://localhost:8080/",
          "height": 1224
        }
      },
      "cell_type": "code",
      "source": [
        "# Initialize reporting variables\n",
        "cost = 0\n",
        "diff = 1\n",
        "epoch_values = []\n",
        "accuracy_values = []\n",
        "cost_values = []\n",
        "\n",
        "# Training epochs\n",
        "for i in range(numEpochs):\n",
        "    if i > 1 and diff < .0001:\n",
        "        print(\"change in cost %g; convergence.\"%diff)\n",
        "        break\n",
        "    else:\n",
        "        # Run training step\n",
        "        step = sess.run(training_OP, feed_dict={X: trainX, yGold: trainY})\n",
        "        # Report occasional stats\n",
        "        if i % 10 == 0:\n",
        "            # Add epoch to epoch_values\n",
        "            epoch_values.append(i)\n",
        "            # Generate accuracy stats on test data\n",
        "            train_accuracy, newCost = sess.run([accuracy_OP, cost_OP], feed_dict={X: trainX, yGold: trainY})\n",
        "            # Add accuracy to live graphing variable\n",
        "            accuracy_values.append(train_accuracy)\n",
        "            # Add cost to live graphing variable\n",
        "            cost_values.append(newCost)\n",
        "            # Re-assign values for variables\n",
        "            diff = abs(newCost - cost)\n",
        "            cost = newCost\n",
        "\n",
        "            #generate print statements\n",
        "            print(\"step %d, training accuracy %g, cost %g, change in cost %g\"%(i, train_accuracy, newCost, diff))\n",
        "\n",
        "\n",
        "# How well do we perform on held-out test data?\n",
        "print(\"final accuracy on test set: %s\" %str(sess.run(accuracy_OP, \n",
        "                                                     feed_dict={X: testX, \n",
        "                                                                yGold: testY})))"
      ],
      "execution_count": 0,
      "outputs": [
        {
          "output_type": "stream",
          "text": [
            "step 0, training accuracy 0.565657, cost 34.6016, change in cost 34.6016\n",
            "step 10, training accuracy 0.555556, cost 30.2026, change in cost 4.39902\n",
            "step 20, training accuracy 0.646465, cost 28.2448, change in cost 1.95779\n",
            "step 30, training accuracy 0.646465, cost 26.5915, change in cost 1.65326\n",
            "step 40, training accuracy 0.646465, cost 25.2169, change in cost 1.37462\n",
            "step 50, training accuracy 0.646465, cost 24.0806, change in cost 1.13632\n",
            "step 60, training accuracy 0.646465, cost 23.1396, change in cost 0.940983\n",
            "step 70, training accuracy 0.646465, cost 22.3555, change in cost 0.784134\n",
            "step 80, training accuracy 0.646465, cost 21.6964, change in cost 0.659122\n",
            "step 90, training accuracy 0.646465, cost 21.1369, change in cost 0.559477\n",
            "step 100, training accuracy 0.656566, cost 20.6572, change in cost 0.47966\n",
            "step 110, training accuracy 0.666667, cost 20.2419, change in cost 0.415298\n",
            "step 120, training accuracy 0.666667, cost 19.879, change in cost 0.362961\n",
            "step 130, training accuracy 0.666667, cost 19.5589, change in cost 0.32004\n",
            "step 140, training accuracy 0.666667, cost 19.2744, change in cost 0.284531\n",
            "step 150, training accuracy 0.666667, cost 19.0195, change in cost 0.254902\n",
            "step 160, training accuracy 0.686869, cost 18.7895, change in cost 0.229982\n",
            "step 170, training accuracy 0.686869, cost 18.5807, change in cost 0.208853\n",
            "step 180, training accuracy 0.69697, cost 18.3898, change in cost 0.190805\n",
            "step 190, training accuracy 0.717172, cost 18.2146, change in cost 0.175289\n",
            "step 200, training accuracy 0.717172, cost 18.0527, change in cost 0.161848\n",
            "step 210, training accuracy 0.737374, cost 17.9026, change in cost 0.150146\n",
            "step 220, training accuracy 0.737374, cost 17.7627, change in cost 0.139885\n",
            "step 230, training accuracy 0.747475, cost 17.6318, change in cost 0.13085\n",
            "step 240, training accuracy 0.757576, cost 17.509, change in cost 0.122843\n",
            "step 250, training accuracy 0.777778, cost 17.3933, change in cost 0.115711\n",
            "step 260, training accuracy 0.787879, cost 17.2839, change in cost 0.109339\n",
            "step 270, training accuracy 0.787879, cost 17.1803, change in cost 0.103611\n",
            "step 280, training accuracy 0.787879, cost 17.0819, change in cost 0.0984478\n",
            "step 290, training accuracy 0.787879, cost 16.9881, change in cost 0.0937672\n",
            "step 300, training accuracy 0.79798, cost 16.8986, change in cost 0.0895157\n",
            "step 310, training accuracy 0.79798, cost 16.813, change in cost 0.0856342\n",
            "step 320, training accuracy 0.79798, cost 16.7309, change in cost 0.0820827\n",
            "step 330, training accuracy 0.79798, cost 16.6521, change in cost 0.0788174\n",
            "step 340, training accuracy 0.808081, cost 16.5762, change in cost 0.0758133\n",
            "step 350, training accuracy 0.828283, cost 16.5032, change in cost 0.0730343\n",
            "step 360, training accuracy 0.828283, cost 16.4327, change in cost 0.070467\n",
            "step 370, training accuracy 0.838384, cost 16.3647, change in cost 0.0680695\n",
            "step 380, training accuracy 0.838384, cost 16.2988, change in cost 0.0658474\n",
            "step 390, training accuracy 0.848485, cost 16.2351, change in cost 0.0637665\n",
            "step 400, training accuracy 0.848485, cost 16.1732, change in cost 0.0618229\n",
            "step 410, training accuracy 0.848485, cost 16.1132, change in cost 0.0600014\n",
            "step 420, training accuracy 0.848485, cost 16.055, change in cost 0.0582829\n",
            "step 430, training accuracy 0.848485, cost 15.9983, change in cost 0.056673\n",
            "step 440, training accuracy 0.858586, cost 15.9431, change in cost 0.0551491\n",
            "step 450, training accuracy 0.868687, cost 15.8894, change in cost 0.0537109\n",
            "step 460, training accuracy 0.868687, cost 15.8371, change in cost 0.0523481\n",
            "step 470, training accuracy 0.878788, cost 15.786, change in cost 0.0510578\n",
            "step 480, training accuracy 0.878788, cost 15.7362, change in cost 0.0498295\n",
            "step 490, training accuracy 0.878788, cost 15.6875, change in cost 0.048665\n",
            "step 500, training accuracy 0.878788, cost 15.64, change in cost 0.0475512\n",
            "step 510, training accuracy 0.878788, cost 15.5935, change in cost 0.0464935\n",
            "step 520, training accuracy 0.878788, cost 15.548, change in cost 0.0454788\n",
            "step 530, training accuracy 0.888889, cost 15.5035, change in cost 0.0445127\n",
            "step 540, training accuracy 0.89899, cost 15.4599, change in cost 0.0435858\n",
            "step 550, training accuracy 0.89899, cost 15.4172, change in cost 0.042696\n",
            "step 560, training accuracy 0.89899, cost 15.3754, change in cost 0.0418444\n",
            "step 570, training accuracy 0.89899, cost 15.3343, change in cost 0.0410252\n",
            "step 580, training accuracy 0.89899, cost 15.2941, change in cost 0.0402374\n",
            "step 590, training accuracy 0.909091, cost 15.2546, change in cost 0.0394812\n",
            "step 600, training accuracy 0.909091, cost 15.2159, change in cost 0.0387497\n",
            "step 610, training accuracy 0.909091, cost 15.1778, change in cost 0.0380468\n",
            "step 620, training accuracy 0.909091, cost 15.1405, change in cost 0.0373688\n",
            "step 630, training accuracy 0.909091, cost 15.1037, change in cost 0.0367088\n",
            "step 640, training accuracy 0.909091, cost 15.0677, change in cost 0.0360804\n",
            "step 650, training accuracy 0.909091, cost 15.0322, change in cost 0.0354643\n",
            "step 660, training accuracy 0.909091, cost 14.9973, change in cost 0.0348711\n",
            "step 670, training accuracy 0.909091, cost 14.963, change in cost 0.0342979\n",
            "step 680, training accuracy 0.909091, cost 14.9293, change in cost 0.03374\n",
            "step 690, training accuracy 0.909091, cost 14.8961, change in cost 0.0332003\n",
            "final accuracy on test set: 0.9\n"
          ],
          "name": "stdout"
        }
      ]
    },
    {
      "metadata": {
        "id": "RLAwUH9b25Op",
        "colab_type": "code",
        "outputId": "92acf76e-ecd2-4eab-e039-1c2b6bb1d66f",
        "colab": {
          "base_uri": "https://localhost:8080/",
          "height": 333
        }
      },
      "cell_type": "code",
      "source": [
        "%matplotlib inline\n",
        "import numpy as np\n",
        "import matplotlib.pyplot as plt\n",
        "plt.plot([np.mean(cost_values[i-50:i]) for i in range(len(cost_values))])\n",
        "plt.show()"
      ],
      "execution_count": 0,
      "outputs": [
        {
          "output_type": "stream",
          "text": [
            "/usr/local/lib/python3.6/dist-packages/numpy/core/fromnumeric.py:2957: RuntimeWarning: Mean of empty slice.\n",
            "  out=out, **kwargs)\n",
            "/usr/local/lib/python3.6/dist-packages/numpy/core/_methods.py:80: RuntimeWarning: invalid value encountered in double_scalars\n",
            "  ret = ret.dtype.type(ret / rcount)\n"
          ],
          "name": "stderr"
        },
        {
          "output_type": "display_data",
          "data": {
            "image/png": "[encoded data removed]",
            "text/plain": [
              "<matplotlib.figure.Figure at 0x7f7e2c9c15f8>"
            ]
          },
          "metadata": {
            "tags": []
          }
        }
      ]
    }
  ]
}